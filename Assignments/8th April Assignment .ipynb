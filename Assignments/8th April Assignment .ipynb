{
 "cells": [
  {
   "cell_type": "markdown",
   "id": "8a79e699-2957-4e5b-9278-c05339711ebe",
   "metadata": {},
   "source": [
    "# Support Vector Machines-3"
   ]
  },
  {
   "cell_type": "markdown",
   "id": "c9ce5a35-5fb5-4ffe-b743-8bf0ab7855ae",
   "metadata": {},
   "source": [
    "#### Q1. In order to predict house price based on several characteristics, such as location, square footage, number of bedrooms, etc., you are developing an SVM regression model. Which regression metric in this situation would be the best to employ?\n",
    "#### Dataset link:\n",
    "https://drive.google.com/file/d/1Z9oLpmt6IDRNw7IeNcHYTGeJRYypRSC0/view?\n"
   ]
  },
  {
   "cell_type": "code",
   "execution_count": 21,
   "id": "07b683a9-36e1-4f12-9ea5-955171793f63",
   "metadata": {},
   "outputs": [
    {
     "data": {
      "text/html": [
       "<div>\n",
       "<style scoped>\n",
       "    .dataframe tbody tr th:only-of-type {\n",
       "        vertical-align: middle;\n",
       "    }\n",
       "\n",
       "    .dataframe tbody tr th {\n",
       "        vertical-align: top;\n",
       "    }\n",
       "\n",
       "    .dataframe thead th {\n",
       "        text-align: right;\n",
       "    }\n",
       "</style>\n",
       "<table border=\"1\" class=\"dataframe\">\n",
       "  <thead>\n",
       "    <tr style=\"text-align: right;\">\n",
       "      <th></th>\n",
       "      <th>area_type</th>\n",
       "      <th>availability</th>\n",
       "      <th>location</th>\n",
       "      <th>size</th>\n",
       "      <th>society</th>\n",
       "      <th>total_sqft</th>\n",
       "      <th>bath</th>\n",
       "      <th>balcony</th>\n",
       "      <th>price</th>\n",
       "    </tr>\n",
       "  </thead>\n",
       "  <tbody>\n",
       "    <tr>\n",
       "      <th>918</th>\n",
       "      <td>Plot  Area</td>\n",
       "      <td>Ready To Move</td>\n",
       "      <td>Kadugondanahalli</td>\n",
       "      <td>4 Bedroom</td>\n",
       "      <td>NaN</td>\n",
       "      <td>915</td>\n",
       "      <td>4.0</td>\n",
       "      <td>1.0</td>\n",
       "      <td>54.9</td>\n",
       "    </tr>\n",
       "    <tr>\n",
       "      <th>919</th>\n",
       "      <td>Plot  Area</td>\n",
       "      <td>Ready To Move</td>\n",
       "      <td>2nd Stage Nagarbhavi</td>\n",
       "      <td>6 Bedroom</td>\n",
       "      <td>NaN</td>\n",
       "      <td>3000</td>\n",
       "      <td>8.0</td>\n",
       "      <td>3.0</td>\n",
       "      <td>451.0</td>\n",
       "    </tr>\n",
       "    <tr>\n",
       "      <th>920</th>\n",
       "      <td>Super built-up  Area</td>\n",
       "      <td>Ready To Move</td>\n",
       "      <td>Seegehalli</td>\n",
       "      <td>3 BHK</td>\n",
       "      <td>NaN</td>\n",
       "      <td>1150</td>\n",
       "      <td>2.0</td>\n",
       "      <td>2.0</td>\n",
       "      <td>42.9</td>\n",
       "    </tr>\n",
       "    <tr>\n",
       "      <th>921</th>\n",
       "      <td>Built-up  Area</td>\n",
       "      <td>Ready To Move</td>\n",
       "      <td>Hebbal</td>\n",
       "      <td>4 BHK</td>\n",
       "      <td>RMudeat</td>\n",
       "      <td>3900</td>\n",
       "      <td>4.0</td>\n",
       "      <td>2.0</td>\n",
       "      <td>410.0</td>\n",
       "    </tr>\n",
       "    <tr>\n",
       "      <th>922</th>\n",
       "      <td>Built-up  Area</td>\n",
       "      <td>Ready To Move</td>\n",
       "      <td>Yeshwanthpur</td>\n",
       "      <td>5 Bedroom</td>\n",
       "      <td>NaN</td>\n",
       "      <td>850</td>\n",
       "      <td>4.0</td>\n",
       "      <td>2.0</td>\n",
       "      <td>90.0</td>\n",
       "    </tr>\n",
       "  </tbody>\n",
       "</table>\n",
       "</div>"
      ],
      "text/plain": [
       "                area_type   availability              location       size  \\\n",
       "918            Plot  Area  Ready To Move      Kadugondanahalli  4 Bedroom   \n",
       "919            Plot  Area  Ready To Move  2nd Stage Nagarbhavi  6 Bedroom   \n",
       "920  Super built-up  Area  Ready To Move            Seegehalli      3 BHK   \n",
       "921        Built-up  Area  Ready To Move                Hebbal      4 BHK   \n",
       "922        Built-up  Area  Ready To Move          Yeshwanthpur  5 Bedroom   \n",
       "\n",
       "     society total_sqft  bath  balcony  price  \n",
       "918      NaN        915   4.0      1.0   54.9  \n",
       "919      NaN       3000   8.0      3.0  451.0  \n",
       "920      NaN       1150   2.0      2.0   42.9  \n",
       "921  RMudeat       3900   4.0      2.0  410.0  \n",
       "922      NaN        850   4.0      2.0   90.0  "
      ]
     },
     "execution_count": 21,
     "metadata": {},
     "output_type": "execute_result"
    }
   ],
   "source": [
    "import pandas as pd\n",
    "import numpy as np\n",
    "from sklearn.model_selection import train_test_split\n",
    "from sklearn.metrics import mean_squared_error\n",
    "from sklearn.svm import SVR\n",
    "df=pd.read_csv(\"Bengaluru_House_Data.csv\")\n",
    "df['balcony'].fillna(df.balcony.mode(), inplace=True)\n",
    "df.tail()"
   ]
  },
  {
   "cell_type": "markdown",
   "id": "ad3b844a-a2cb-430f-816c-811afbfcd9a8",
   "metadata": {},
   "source": [
    "##### Split training"
   ]
  },
  {
   "cell_type": "code",
   "execution_count": null,
   "id": "f42b5a27-65ba-4c24-8cd8-7b7b02a3015b",
   "metadata": {},
   "outputs": [],
   "source": [
    "X_train,X_test,y_train,y_test=train_test_split(df['balcony'], df['price'],test_size=0.50,random_state=42)\n",
    "svr_model = SVR(kernel='linear')\n",
    "svr_model.fit(X_train,y_train)\n",
    "predictions = model.predict(X_test)\n",
    "mse = mean_squared_error(y_test, predictions)\n",
    "print(\"Mean sq. error:\", mse)"
   ]
  },
  {
   "cell_type": "markdown",
   "id": "3cac52f5-2133-4793-ba43-5d2ab488c70d",
   "metadata": {},
   "source": [
    "#### Q2. You have built an SVM regression model and are trying to decide between using MSE or R-squared as your evaluation metric. Which metric would be more appropriate if your goal is to predict the actual price of a house as accurately as possible?"
   ]
  },
  {
   "cell_type": "code",
   "execution_count": null,
   "id": "e659145a-f4c4-458d-b0ce-3cabb4efc18e",
   "metadata": {},
   "outputs": [],
   "source": [
    "import pandas as pd\n",
    "from sklearn.model_selection import train_test_split\n",
    "from sklearn.svm import SVR\n",
    "from sklearn.metrics import mean_squared_error\n",
    "\n",
    "# Load the dataset\n",
    "data = pd.read_csv('Bengaluru_House_Data.csv')\n",
    "\n",
    "# Split the dataset into training and testing sets\n",
    "X_train, X_test, y_train, y_test = train_test_split(data.drop('price', axis=1), data['price'], test_size=0.2, random_state=42)\n",
    "\n",
    "# Train an SVM regression model\n",
    "model = SVR(kernel='linear')\n",
    "model.fit(X_train, y_train)\n",
    "\n",
    "# Evaluate the model on the testing set using MSE\n",
    "predictions = model.predict(X_test)\n",
    "mse = mean_squared_error(y_test, predictions)\n",
    "\n",
    "print(\"Mean squared error:\", mse)"
   ]
  },
  {
   "cell_type": "markdown",
   "id": "dc05eed7-45a9-4e4a-a2b1-0850fd52ec03",
   "metadata": {},
   "source": [
    "If the goal is to predict the actual price of a house as accurately as possible for the given dataset, then the Mean Squared Error (MSE) would be more appropriate than R-squared as the evaluation metric for the SVM regression model.\n",
    "\n",
    "MSE measures the average of the squared differences between predicted and actual values, and it is commonly used in regression analysis to assess the performance of a predictive model. In the case of predicting house prices, it gives higher weight to larger errors, which can be significant when predicting the price of a high-value asset like a house. It also penalizes the model more heavily for larger errors, which can help to identify models that are less accurate in predicting house prices.\n",
    "\n",
    "On the other hand, R-squared measures the proportion of the variance in the target variable (i.e., house price) that is explained by the independent variables (i.e., location, square footage, number of bedrooms, etc.). While R-squared can be useful in understanding how well the independent variables are explaining the variation in the target variable, it may not be the best metric for evaluating the model's ability to predict house prices accurately.\n",
    "\n",
    "We can develop an SVM regression model using the features provided in the dataset and evaluate its performance using MSE as the regression metric. We can split the dataset into a training set and a testing set using an 80/20 split, train the SVM model on the training set, and then evaluate the model's performance on the testing set using MSE.\n"
   ]
  },
  {
   "cell_type": "markdown",
   "id": "02f91cd5-a2be-4db1-bdb4-ece443f53913",
   "metadata": {},
   "source": [
    "#### Q3. You have a dataset with a significant number of outliers and are trying to select an appropriate regression metric to use with your SVM model. Which metric would be the most appropriate in this scenario?"
   ]
  },
  {
   "cell_type": "markdown",
   "id": "c689243b-454c-4f30-b877-1c0e4c58742d",
   "metadata": {},
   "source": [
    "### Ans.\n",
    "If the dataset has a significant number of outliers, then using the Mean Absolute Error (MAE) as the regression metric would be the most appropriate in this scenario with an SVM model.\n",
    "\n",
    "MAE measures the average of the absolute differences between predicted and actual values. It is less sensitive to outliers compared to the Mean Squared Error (MSE) metric, as it does not square the errors. When a dataset has outliers, it can lead to very large errors that can skew the evaluation of the model's performance. In this case, using MAE as the regression metric can provide a more robust evaluation of the model's performance by reducing the impact of outliers on the overall evaluation.\n",
    "\n",
    "Here is some sample Python code to implement an SVM model using MAE as the regression metric:"
   ]
  },
  {
   "cell_type": "code",
   "execution_count": null,
   "id": "bd987d11-4a02-46e4-a2f5-1491e941d7c4",
   "metadata": {},
   "outputs": [],
   "source": [
    "data = pd.read_csv('Bengaluru_House_Data.csv')\n",
    "\n",
    "# Split the dataset into training and testing sets\n",
    "X_train, X_test, y_train, y_test = train_test_split(data.drop('price', axis=1), data['price'], test_size=0.2, random_state=42)\n",
    "\n",
    "# Train an SVM regression model\n",
    "model = SVR(kernel='linear')\n",
    "model.fit(X_train, y_train)\n",
    "\n",
    "# Evaluate the model on the testing set using MAE\n",
    "predictions = model.predict(X_test)\n",
    "mae = mean_absolute_error(y_test, predictions)\n",
    "\n",
    "print(\"Mean absolute error:\", mae)"
   ]
  },
  {
   "cell_type": "markdown",
   "id": "94789abb-9382-47ec-939e-5d9ee462f628",
   "metadata": {},
   "source": [
    "#### Q4. You have built an SVM regression model using a polynomial kernel and are trying to select the best metric to evaluate its performance. You have calculated both MSE and RMSE and found that both values are very close. Which metric should you choose to use in this case?"
   ]
  },
  {
   "cell_type": "markdown",
   "id": "0b5ac8c8-3bd6-4f0e-a252-98908edb837c",
   "metadata": {},
   "source": [
    "#### Ans.\n",
    "If both the Mean Squared Error (MSE) and Root Mean Squared Error (RMSE) values are very close, either metric can be used to evaluate the performance of the SVM regression model using a polynomial kernel.\n",
    "\n",
    "MSE and RMSE are both commonly used regression metrics, and they measure the same thing: the difference between the predicted and actual values. RMSE is simply the square root of MSE, which means that it penalizes larger errors more heavily than smaller errors.\n",
    "\n",
    "In some cases, RMSE is preferred over MSE because it has the same unit as the target variable, which makes it more interpretable. However, if the difference between the two metrics is negligible, then it may not matter which one is used.\n",
    "\n",
    "Therefore, in this case, you can choose either MSE or RMSE to evaluate the performance of the SVM regression model using a polynomial kernel, as both metrics are very close and provide a similar evaluation of the model's performance."
   ]
  },
  {
   "cell_type": "markdown",
   "id": "675b1f11-e928-4702-9ef7-1dbc6771e20a",
   "metadata": {},
   "source": [
    "#### Q5. You are comparing the performance of different SVM regression models using different kernels (linear, polynomial, and RBF) and are trying to select the best evaluation metric. Which metric would be most appropriate if your goal is to measure how well the model explains the variance in the target variable?"
   ]
  },
  {
   "cell_type": "markdown",
   "id": "4d1680ae-68f5-4e83-baa7-a8a91eb3a66f",
   "metadata": {},
   "source": [
    "#### Ans.\n",
    "If your goal is to measure how well the model explains the variance in the target variable, the most appropriate evaluation metric to use would be the coefficient of determination or R-squared.\n",
    "\n",
    "R-squared measures the proportion of variance in the target variable that is explained by the independent variables in the model. It ranges from 0 to 1, where 0 indicates that the model explains none of the variance in the target variable, and 1 indicates that the model explains all of the variance in the target variable.\n",
    "\n",
    "When comparing the performance of different SVM regression models using different kernels, R-squared is a useful metric because it provides a measure of the goodness of fit of the model relative to a simple baseline model that always predicts the mean value of the target variable.\n",
    "\n",
    "Here is some sample Python code to implement an SVM regression model using different kernels and R-squared as the evaluation metric:"
   ]
  },
  {
   "cell_type": "code",
   "execution_count": null,
   "id": "94073e3a-5b00-43bb-a483-d44c415d506c",
   "metadata": {},
   "outputs": [],
   "source": [
    "import pandas as pd\n",
    "from sklearn.model_selection import train_test_split\n",
    "from sklearn.svm import SVR\n",
    "from sklearn.metrics import r2_score\n",
    "\n",
    "# Load the dataset\n",
    "data = pd.read_csv('Bengaluru_House_Data.csv')\n",
    "\n",
    "# Split the dataset into training and testing sets\n",
    "X_train, X_test, y_train, y_test = train_test_split(data.drop('price', axis=1), data['price'], test_size=0.2, random_state=42)\n",
    "\n",
    "# Train SVM regression models with different kernels\n",
    "linear_model = SVR(kernel='linear')\n",
    "poly_model = SVR(kernel='poly', degree=3)\n",
    "rbf_model = SVR(kernel='rbf')\n",
    "\n",
    "linear_model.fit(X_train, y_train)\n",
    "poly_model.fit(X_train, y_train)\n",
    "rbf_model.fit(X_train, y_train)\n",
    "\n",
    "# Evaluate the models on the testing set using R-squared\n",
    "linear_r2 = r2_score(y_test, linear_model.predict(X_test))\n",
    "poly_r2 = r2_score(y_test, poly_model.predict(X_test))\n",
    "rbf_r2 = r2_score(y_test, rbf_model.predict(X_test))\n",
    "\n",
    "print(\"Linear kernel R-squared:\", linear_r2)\n",
    "print(\"Polynomial kernel R-squared:\", poly_r2)\n",
    "print(\"RBF kernel R-squared:\", rbf_r2)"
   ]
  },
  {
   "cell_type": "code",
   "execution_count": null,
   "id": "f2c9d1d8-a58f-4aba-8ae9-8741943ea697",
   "metadata": {},
   "outputs": [],
   "source": []
  }
 ],
 "metadata": {
  "kernelspec": {
   "display_name": "Python 3",
   "language": "python",
   "name": "python3"
  },
  "language_info": {
   "codemirror_mode": {
    "name": "ipython",
    "version": 3
   },
   "file_extension": ".py",
   "mimetype": "text/x-python",
   "name": "python",
   "nbconvert_exporter": "python",
   "pygments_lexer": "ipython3",
   "version": "3.8.8"
  }
 },
 "nbformat": 4,
 "nbformat_minor": 5
}
