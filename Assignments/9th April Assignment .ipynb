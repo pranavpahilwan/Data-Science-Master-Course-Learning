{
 "cells": [
  {
   "cell_type": "markdown",
   "id": "5ae91308-f6b9-4b89-b82e-be93c999e1ac",
   "metadata": {},
   "source": [
    "# Naïve bayes-1"
   ]
  },
  {
   "cell_type": "markdown",
   "id": "5e7aa633-e429-481f-99ba-a9b842e79669",
   "metadata": {},
   "source": [
    "#### Q1. What is Bayes' theorem?"
   ]
  },
  {
   "cell_type": "markdown",
   "id": "87613bdc-2268-4864-aae9-57883b49866c",
   "metadata": {},
   "source": [
    "#### Ans.\n",
    "Bayes' theorem is a fundamental concept in probability theory and statistics, named after the Reverend Thomas Bayes. It describes how to update or revise our beliefs (probability estimates) about an event or hypothesis based on new evidence or information.\n",
    "\n"
   ]
  },
  {
   "cell_type": "markdown",
   "id": "34e7b0c5-8214-49ee-8af5-4b9fcad09886",
   "metadata": {},
   "source": [
    "#### Q2. What is the formula for Bayes' theorem?"
   ]
  },
  {
   "attachments": {
    "6d9d9108-f083-4625-90d7-108ad293fa68.png": {
     "image/png": "[encoded data removed]"
    }
   },
   "cell_type": "markdown",
   "id": "ffc02072-6cf4-4a77-a14a-8cc0a8445f22",
   "metadata": {},
   "source": [
    "Mathematically, Bayes' theorem is stated as follows:\n",
    "\n",
    "![image.png](attachment:6d9d9108-f083-4625-90d7-108ad293fa68.png)\n",
    "\n",
    "- P(A)= The probability of A occurring\n",
    "- P(B)= The probability of B occurring\n",
    "- P(A∣B)=The probability of A given B\n",
    "- P(B∣A)= The probability of B given A\n",
    "- P(A⋂B))= The probability of both A and B occurring\n",
    "\n"
   ]
  },
  {
   "cell_type": "markdown",
   "id": "8dbb4333-7092-4c7d-9ad2-6425c0e8d034",
   "metadata": {},
   "source": [
    "#### Q3. How is Bayes' theorem used in practice?"
   ]
  },
  {
   "cell_type": "markdown",
   "id": "5564a9b6-3be6-46a0-9803-1caac38d0dab",
   "metadata": {},
   "source": [
    "#### Ans.\n",
    "\n",
    "Bayes' Theorem thus gives the probability of an event based on new information that is or may be related to that event. The formula also can be used to determine how the probability of an event occurring may be affected by hypothetical new information, supposing the new information will turn out to be true.\n",
    "\n",
    "Bayes' theorem is used in a variety of practical applications across different fields. Here are a few examples of how it is used in practice:\n",
    "\n",
    "- Medical Diagnosis: Bayes' theorem is used in medical diagnosis to update the probability of a patient having a particular disease based on the results of medical tests. It combines the patient's prior probability of having the disease with the likelihood of getting a positive test result if they have the disease, as well as the likelihood of getting a positive test result if they don't have the disease.\n",
    "\n",
    "- Spam Filtering: In email spam filtering, Bayes' theorem is used to classify emails as spam or not spam based on the occurrence of certain words or patterns in the email's content. The theorem helps adjust the likelihood of an email being spam based on the observed words in the email and the overall likelihood of receiving spam emails.\n",
    "\n",
    "- Natural Language Processing: In language modeling and machine translation, Bayes' theorem is used to estimate the probability of a particular word or phrase given the context of the surrounding words. This is the basis for many language processing algorithms that generate coherent and contextually appropriate text.\n",
    "\n",
    "- Image Recognition: In image recognition and computer vision, Bayes' theorem can be used to estimate the probability that a given image belongs to a certain class or category based on the features present in the image.\n",
    "\n",
    "- Financial Modeling: In finance, Bayes' theorem can be applied to update the probabilities of different financial events occurring based on new economic data and market conditions.\n",
    "\n",
    "- A/B Testing: In experimental design and A/B testing, Bayes' theorem can be used to analyze the results of experiments and determine the effectiveness of different strategies or interventions.\n",
    "\n",
    "- Crime Investigation: Bayes' theorem can be used to update the probability of a suspect being guilty based on new evidence gathered during a criminal investigation.\n",
    "\n",
    "- Weather Forecasting: In weather forecasting, Bayes' theorem can be used to update the probability of different weather outcomes based on new data from weather sensors and satellite imagery.\n",
    "\n",
    "- Genetics and Bioinformatics: Bayes' theorem is used to analyze genetic data and identify the likelihood of certain genetic traits or diseases based on the presence of specific genetic markers."
   ]
  },
  {
   "cell_type": "markdown",
   "id": "d1ea6310-f1cf-4ff5-ac4c-82ca7c9e82a0",
   "metadata": {},
   "source": [
    "#### Q4. What is the relationship between Bayes' theorem and conditional probability?"
   ]
  },
  {
   "attachments": {
    "4a714f1e-c539-422c-86b5-3534e5127ffa.png": {
     "image/png": "[encoded data removed]"
    }
   },
   "cell_type": "markdown",
   "id": "bde72e13-01f2-4e75-bcad-1bfad52997fc",
   "metadata": {},
   "source": [
    "#### Ans.\n",
    "Bayes' theorem is a formula that describes how to update the probabilities of hypotheses when given evidence. It follows simply from the axioms of conditional probability, but can be used to powerfully reason about a wide range of problems involving belief updates.\n",
    "\n",
    "![image.png](attachment:4a714f1e-c539-422c-86b5-3534e5127ffa.png)"
   ]
  },
  {
   "cell_type": "markdown",
   "id": "f7b9b09f-3e36-4273-893c-e801d3f62dad",
   "metadata": {},
   "source": [
    "#### Q5. How do you choose which type of Naive Bayes classifier to use for any given problem?"
   ]
  },
  {
   "cell_type": "markdown",
   "id": "6256ed2d-b630-4c0f-8450-feb02c86968f",
   "metadata": {},
   "source": [
    "#### Ans.\n",
    "\n",
    "The Naive Bayes classifier is a family of simple probabilistic classifiers based on Bayes' theorem, often used in machine learning and text classification tasks. The choice of which specific type of Naive Bayes classifier to use for a given problem depends on the nature of the data and the assumptions that can be made about the data. Here are the three main types of Naive Bayes classifiers and factors to consider when choosing one:\n",
    "\n",
    "1. Gaussian Naive Bayes:\n",
    "\n",
    "    - Applicability: Suitable for continuous or numerical data that can be modeled using a Gaussian (normal) distribution.\n",
    "    - Assumption: Assumes that each class's features follow a Gaussian distribution.\n",
    "    - Example: When features are measurements with continuous values, such as height, weight, etc.\n",
    "    \n",
    "    \n",
    "2. Multinomial Naive Bayes:\n",
    "\n",
    "    - Applicability: Commonly used for text classification tasks where data is represented as word frequency counts or categorical features.\n",
    "    - Assumption: Assumes that features are discrete and represent counts or frequencies.\n",
    "    - Example: Text classification, spam detection, sentiment analysis.\n",
    "    \n",
    "\n",
    "\n",
    "3. Bernoulli Naive Bayes:\n",
    "    - Applicability: Suitable when dealing with binary or Boolean features, where each feature can take on only two possible values (e.g., presence/absence of a word).\n",
    "    - Assumption: Assumes that features are independent and have a Bernoulli distribution.\n",
    "    - Example: Document classification where features indicate the presence or absence of specific words."
   ]
  },
  {
   "cell_type": "markdown",
   "id": "8d4df7d0-7a93-4a2c-b0f0-6553e2ea2a1a",
   "metadata": {},
   "source": [
    "#### Q6. You have a dataset with two features, X1 and X2, and two possible classes, A and B. You want to use Naive Bayes to classify a new instance with features X1 = 3 and X2 = 4. The following table shows the frequency of each feature value for each class:\n",
    "\n",
    "- Class: X1=1 | X1=2| X1=3| X2=1 |X2=2 |X2=3|X2=4\n",
    "- A -->     3   | 3   | 4   | 4    |3    |3   |3\n",
    "- B -->     2   | 2   | 1   | 2    |2    |2   |3\n",
    "\n",
    "Assuming equal prior probabilities for each class, which class would Naive Bayes predict the new instance\n",
    "to belong to?"
   ]
  },
  {
   "cell_type": "markdown",
   "id": "e466b091-1072-4ecc-993f-fdbaf373a849",
   "metadata": {},
   "source": [
    "#### Ans.\n",
    "To classify the new instance with features X1 = 3 and X2 = 4 using Naive Bayes, we need to calculate the posterior probabilities for each class, given these feature values. We can do this using Bayes' theorem:\n",
    "\n",
    "P(A|X1=3,X2=4) = P(X1=3,X2=4|A) * P(A) / P(X1=3,X2=4)\n",
    "\n",
    "P(B|X1=3,X2=4) = P(X1=3,X2=4|B) * P(B) / P(X1=3,X2=4)\n",
    "\n",
    "Since the prior probabilities for A and B are assumed to be equal, we can simplify this to:\n",
    "\n",
    "P(A|X1=3,X2=4) = P(X1=3,X2=4|A) / P(X1=3,X2=4)\n",
    "\n",
    "P(B|X1=3,X2=4) = P(X1=3,X2=4|B) / P(X1=3,X2=4)\n",
    "\n",
    "To calculate the probabilities, we need to use the Naive Bayes assumption that the features are conditionally independent, given the class. This allows us to factorize the joint probability distribution as follows:\n",
    "\n",
    "P(X1=3,X2=4|A) = P(X1=3|A) * P(X2=4|A)\n",
    "\n",
    "P(X1=3,X2=4|B) = P(X1=3|B) * P(X2=4|B)\n",
    "\n",
    "We can estimate these probabilities from the frequency table provided:\n",
    "\n",
    "P(X1=3|A) = 4/10\n",
    "\n",
    "P(X1=3|B) = 1/7\n",
    "\n",
    "P(X2=4|A) = 3/10\n",
    "\n",
    "P(X2=4|B) = 1/7\n",
    "\n",
    "To calculate the denominator, we need to use the law of total probability:\n",
    "\n",
    "P(X1=3,X2=4) = P(X1=3,X2=4|A) * P(A) + P(X1=3,X2=4|B) * P(B)\n",
    "\n",
    "We can estimate these probabilities from the frequency table provided:\n",
    "\n",
    "P(X1=3,X2=4|A) = P(X1=3|A) * P(X2=4|A) = (4/10) * (3/10) = 12/100\n",
    "\n",
    "P(X1=3,X2=4|B) = P(X1=3|B) * P(X2=4|B) = (1/7) * (1/7) = 1/49\n",
    "\n",
    "P(A) = P(B) = 0.5\n",
    "\n",
    "Therefore:\n",
    "\n",
    "P(X1=3,X2=4) = (12/100) * 0.5 + (1/49) * 0.5 = 0.124\n",
    "\n",
    "Now we can plug these values into the formula for the posterior probabilities:\n",
    "\n",
    "P(A|X1=3,X2=4) = (4/10) * (3/10) / 0.124 = 0.967\n",
    "\n",
    "P(B|X1=3,X2=4) = (1/7) * (1/7) / 0.124 = 0.033\n",
    "\n",
    "Therefore, Naive Bayes would predict that the new instance with features X1=3 and X2=4 belongs to class A, since it has a much higher posterior probability than class B."
   ]
  },
  {
   "cell_type": "code",
   "execution_count": null,
   "id": "4ce96074-173a-452b-ae18-45be710d7222",
   "metadata": {},
   "outputs": [],
   "source": []
  }
 ],
 "metadata": {
  "kernelspec": {
   "display_name": "Python 3",
   "language": "python",
   "name": "python3"
  },
  "language_info": {
   "codemirror_mode": {
    "name": "ipython",
    "version": 3
   },
   "file_extension": ".py",
   "mimetype": "text/x-python",
   "name": "python",
   "nbconvert_exporter": "python",
   "pygments_lexer": "ipython3",
   "version": "3.8.8"
  }
 },
 "nbformat": 4,
 "nbformat_minor": 5
}
